{
  "nbformat": 4,
  "nbformat_minor": 0,
  "metadata": {
    "colab": {
      "name": "Copy of Life_Expectancy_Polynomial_Regression",
      "provenance": [],
      "collapsed_sections": [],
      "toc_visible": true,
      "authorship_tag": "ABX9TyN3uHlp8NNxLLYS+gU131lL",
      "include_colab_link": true
    },
    "kernelspec": {
      "name": "python3",
      "display_name": "Python 3"
    }
  },
  "cells": [
    {
      "cell_type": "markdown",
      "metadata": {
        "id": "view-in-github",
        "colab_type": "text"
      },
      "source": [
        "<a href=\"https://colab.research.google.com/github/Nikhilsain/ML_PROJECTS/blob/main/Copy_of_Life_Expectancy_Polynomial_Regression.ipynb\" target=\"_parent\"><img src=\"https://colab.research.google.com/assets/colab-badge.svg\" alt=\"Open In Colab\"/></a>"
      ]
    },
    {
      "cell_type": "markdown",
      "metadata": {
        "id": "ZFF2frngp1oX"
      },
      "source": [
        "# IMPORTING - LIBRARIES"
      ]
    },
    {
      "cell_type": "code",
      "metadata": {
        "id": "fvkU2sQFp7xZ"
      },
      "source": [
        "import numpy as np\r\n",
        "import matplotlib.pyplot as plt\r\n",
        "import pandas as pd"
      ],
      "execution_count": 55,
      "outputs": []
    },
    {
      "cell_type": "markdown",
      "metadata": {
        "id": "KNNTpEqtp9ZU"
      },
      "source": [
        "# IMPORT DATASET"
      ]
    },
    {
      "cell_type": "code",
      "metadata": {
        "colab": {
          "base_uri": "https://localhost:8080/"
        },
        "id": "3DgU9dTCqRFE",
        "outputId": "1f1200ff-0764-4044-a0ae-6e939bd686be"
      },
      "source": [
        "dataset = pd.read_csv('Life Expectancy Data.csv')\r\n",
        "\r\n",
        "for (columnName) in dataset.iteritems(): \r\n",
        "    print(columnName[0] ,'-', dataset[columnName[0]].dtype) "
      ],
      "execution_count": 56,
      "outputs": [
        {
          "output_type": "stream",
          "text": [
            "Country - object\n",
            "Year - int64\n",
            "Status - object\n",
            "Life expectancy  - float64\n",
            "Adult Mortality - float64\n",
            "infant deaths - int64\n",
            "Alcohol - float64\n",
            "percentage expenditure - float64\n",
            "Hepatitis B - float64\n",
            "Measles  - int64\n",
            " BMI  - float64\n",
            "under-five deaths  - int64\n",
            "Polio - float64\n",
            "Total expenditure - float64\n",
            "Diphtheria  - float64\n",
            " HIV/AIDS - float64\n",
            "GDP - float64\n",
            "Population - float64\n",
            " thinness  1-19 years - float64\n",
            " thinness 5-9 years - float64\n",
            "Income composition of resources - float64\n",
            "Schooling - float64\n"
          ],
          "name": "stdout"
        }
      ]
    },
    {
      "cell_type": "markdown",
      "metadata": {
        "id": "tJL-KV5goQ5K"
      },
      "source": [
        "# Taking care of missing data and depend. and undepend. featers selections"
      ]
    },
    {
      "cell_type": "code",
      "metadata": {
        "id": "ID9ECopsoyo8",
        "colab": {
          "base_uri": "https://localhost:8080/"
        },
        "outputId": "4f237724-321c-4ec8-b8f1-59308ff62556"
      },
      "source": [
        "dataset.isnull().sum()"
      ],
      "execution_count": 57,
      "outputs": [
        {
          "output_type": "execute_result",
          "data": {
            "text/plain": [
              "Country                              0\n",
              "Year                                 0\n",
              "Status                               0\n",
              "Life expectancy                     10\n",
              "Adult Mortality                     10\n",
              "infant deaths                        0\n",
              "Alcohol                            194\n",
              "percentage expenditure               0\n",
              "Hepatitis B                        553\n",
              "Measles                              0\n",
              " BMI                                34\n",
              "under-five deaths                    0\n",
              "Polio                               19\n",
              "Total expenditure                  226\n",
              "Diphtheria                          19\n",
              " HIV/AIDS                            0\n",
              "GDP                                448\n",
              "Population                         652\n",
              " thinness  1-19 years               34\n",
              " thinness 5-9 years                 34\n",
              "Income composition of resources    167\n",
              "Schooling                          163\n",
              "dtype: int64"
            ]
          },
          "metadata": {
            "tags": []
          },
          "execution_count": 57
        }
      ]
    },
    {
      "cell_type": "code",
      "metadata": {
        "id": "S_ACgVTXj4Z9"
      },
      "source": [
        "for (columnName) in dataset.iteritems(): \r\n",
        "    if dataset[columnName[0]].dtype == 'int' :\r\n",
        "       dataset[columnName[0]].fillna(int(dataset[columnName[0]].mean()), inplace=True)\r\n",
        "    if dataset[columnName[0]].dtype == 'float' :\r\n",
        "       dataset[columnName[0]].fillna(float(dataset[columnName[0]].mean()), inplace=True)\r\n"
      ],
      "execution_count": 58,
      "outputs": []
    },
    {
      "cell_type": "code",
      "metadata": {
        "id": "uKnqk_Lddv8c",
        "colab": {
          "base_uri": "https://localhost:8080/"
        },
        "outputId": "ae875d07-5d94-41de-bb34-bf8fd84e3ed0"
      },
      "source": [
        "dataset.isnull().sum()"
      ],
      "execution_count": 59,
      "outputs": [
        {
          "output_type": "execute_result",
          "data": {
            "text/plain": [
              "Country                            0\n",
              "Year                               0\n",
              "Status                             0\n",
              "Life expectancy                    0\n",
              "Adult Mortality                    0\n",
              "infant deaths                      0\n",
              "Alcohol                            0\n",
              "percentage expenditure             0\n",
              "Hepatitis B                        0\n",
              "Measles                            0\n",
              " BMI                               0\n",
              "under-five deaths                  0\n",
              "Polio                              0\n",
              "Total expenditure                  0\n",
              "Diphtheria                         0\n",
              " HIV/AIDS                          0\n",
              "GDP                                0\n",
              "Population                         0\n",
              " thinness  1-19 years              0\n",
              " thinness 5-9 years                0\n",
              "Income composition of resources    0\n",
              "Schooling                          0\n",
              "dtype: int64"
            ]
          },
          "metadata": {
            "tags": []
          },
          "execution_count": 59
        }
      ]
    },
    {
      "cell_type": "code",
      "metadata": {
        "id": "67WbMUaypY76"
      },
      "source": [
        "X = dataset.iloc[:, :].values\r\n",
        "y = dataset.iloc[:, 3].values\r\n",
        "X = np.delete(X, 3, 1)\r\n",
        "X = np.delete(X, 0, 1)"
      ],
      "execution_count": 60,
      "outputs": []
    },
    {
      "cell_type": "code",
      "metadata": {
        "colab": {
          "base_uri": "https://localhost:8080/"
        },
        "id": "XvOAgsVj2loN",
        "outputId": "f876d0e2-cd01-4cdf-8d79-046f037522bc"
      },
      "source": [
        "print(X)"
      ],
      "execution_count": 61,
      "outputs": [
        {
          "output_type": "stream",
          "text": [
            "[[2015 'Developing' 263.0 ... 17.3 0.479 10.1]\n",
            " [2014 'Developing' 271.0 ... 17.5 0.47600000000000003 10.0]\n",
            " [2013 'Developing' 268.0 ... 17.7 0.47 9.9]\n",
            " ...\n",
            " [2002 'Developing' 73.0 ... 1.3 0.42700000000000005 10.0]\n",
            " [2001 'Developing' 686.0 ... 1.7 0.42700000000000005 9.8]\n",
            " [2000 'Developing' 665.0 ... 11.2 0.434 9.8]]\n"
          ],
          "name": "stdout"
        }
      ]
    },
    {
      "cell_type": "markdown",
      "metadata": {
        "id": "G2ecaD4qz-gs"
      },
      "source": [
        "# Encoding"
      ]
    },
    {
      "cell_type": "code",
      "metadata": {
        "id": "qlxByLRL0BwY"
      },
      "source": [
        "from sklearn.compose import ColumnTransformer\r\n",
        "from sklearn.preprocessing import OneHotEncoder\r\n",
        "ct = ColumnTransformer(transformers=[('encoder', OneHotEncoder(), [1])], remainder='passthrough')\r\n",
        "X = np.array(ct.fit_transform(X))\r\n"
      ],
      "execution_count": 62,
      "outputs": []
    },
    {
      "cell_type": "markdown",
      "metadata": {
        "id": "bUfsqXxlwLAC"
      },
      "source": [
        "# Training and Test Set"
      ]
    },
    {
      "cell_type": "code",
      "metadata": {
        "id": "RgPlYAhLwT5T"
      },
      "source": [
        "from sklearn.model_selection import train_test_split\r\n",
        "X_train, X_test, y_train, y_test = train_test_split(X, y, test_size = 0.2, random_state = 0)"
      ],
      "execution_count": 63,
      "outputs": []
    },
    {
      "cell_type": "markdown",
      "metadata": {
        "id": "OiJg4NSfwg9H"
      },
      "source": [
        "# Training the Polynomial Regression model on the Training set"
      ]
    },
    {
      "cell_type": "code",
      "metadata": {
        "colab": {
          "base_uri": "https://localhost:8080/"
        },
        "id": "W6vZJQ7QwnDs",
        "outputId": "8ad8a6f0-2335-4a8d-88ca-d5016c294652"
      },
      "source": [
        "from sklearn.preprocessing import PolynomialFeatures\r\n",
        "from sklearn.linear_model import LinearRegression\r\n",
        "poly_reg = PolynomialFeatures(degree = 2)\r\n",
        "X_poly = poly_reg.fit_transform(X_train)\r\n",
        "regressor = LinearRegression()\r\n",
        "regressor.fit(X_poly, y_train)\r\n",
        "#print(X_poly.shape)"
      ],
      "execution_count": 64,
      "outputs": [
        {
          "output_type": "execute_result",
          "data": {
            "text/plain": [
              "LinearRegression(copy_X=True, fit_intercept=True, n_jobs=None, normalize=False)"
            ]
          },
          "metadata": {
            "tags": []
          },
          "execution_count": 64
        }
      ]
    },
    {
      "cell_type": "markdown",
      "metadata": {
        "id": "49qeYCTuxMkp"
      },
      "source": [
        "# Predicting the Test set results"
      ]
    },
    {
      "cell_type": "code",
      "metadata": {
        "colab": {
          "base_uri": "https://localhost:8080/"
        },
        "id": "1PzVjMwbxQwn",
        "outputId": "f85eb28d-c525-4204-ea4d-b87c74307873"
      },
      "source": [
        "y_pred = regressor.predict(poly_reg.transform(X_test))\r\n",
        "np.set_printoptions(precision=2)\r\n",
        "print(np.concatenate((y_pred.reshape(len(y_pred),1), y_test.reshape(len(y_test),1)),1))"
      ],
      "execution_count": 65,
      "outputs": [
        {
          "output_type": "stream",
          "text": [
            "[[78.91 77.3 ]\n",
            " [65.95 66.6 ]\n",
            " [48.87 52.6 ]\n",
            " ...\n",
            " [75.54 72.6 ]\n",
            " [73.93 73.  ]\n",
            " [78.57 83.  ]]\n"
          ],
          "name": "stdout"
        }
      ]
    },
    {
      "cell_type": "code",
      "metadata": {
        "colab": {
          "base_uri": "https://localhost:8080/",
          "height": 295
        },
        "id": "i0Jop3Tu2paO",
        "outputId": "0ee8ed03-cebf-4d4b-d29e-5e105fb15663"
      },
      "source": [
        "plt.scatter(np.arange(len(y_test)), y_test, color = 'red')\r\n",
        "plt.plot(np.arange(len(y_test)),  regressor.predict(poly_reg.transform(X_test)), color = 'blue')\r\n",
        "plt.title('Life Expectancy (Y axis)')\r\n",
        "plt.xlabel('X-axis')\r\n",
        "plt.ylabel('Life Expectancy (Y axis)')\r\n",
        "plt.show()"
      ],
      "execution_count": 66,
      "outputs": [
        {
          "output_type": "display_data",
          "data": {
            "image/png": "[encoded data removed]",
            "text/plain": [
              "<Figure size 432x288 with 1 Axes>"
            ]
          },
          "metadata": {
            "tags": [],
            "needs_background": "light"
          }
        }
      ]
    },
    {
      "cell_type": "markdown",
      "metadata": {
        "id": "Plf7IugOxopt"
      },
      "source": [
        "# Evaluating the Model Performance from R2 Value"
      ]
    },
    {
      "cell_type": "code",
      "metadata": {
        "colab": {
          "base_uri": "https://localhost:8080/"
        },
        "id": "eRQXNL4nxtro",
        "outputId": "912fe7b0-6e3f-4276-f72f-61e74b643bea"
      },
      "source": [
        "from sklearn.metrics import r2_score\r\n",
        "r2_score(y_test, y_pred)"
      ],
      "execution_count": 67,
      "outputs": [
        {
          "output_type": "execute_result",
          "data": {
            "text/plain": [
              "0.8443489850248775"
            ]
          },
          "metadata": {
            "tags": []
          },
          "execution_count": 67
        }
      ]
    }
  ]
}