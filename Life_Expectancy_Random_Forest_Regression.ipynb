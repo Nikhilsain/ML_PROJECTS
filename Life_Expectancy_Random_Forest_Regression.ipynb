{
  "nbformat": 4,
  "nbformat_minor": 0,
  "metadata": {
    "colab": {
      "name": "Copy of Copy of Life_Expectancy_Random_Forest_Regression",
      "provenance": [],
      "collapsed_sections": [],
      "authorship_tag": "ABX9TyPcCwLDXa0e0cAoT324OoZL",
      "include_colab_link": true
    },
    "kernelspec": {
      "name": "python3",
      "display_name": "Python 3"
    }
  },
  "cells": [
    {
      "cell_type": "markdown",
      "metadata": {
        "id": "view-in-github",
        "colab_type": "text"
      },
      "source": [
        "<a href=\"https://colab.research.google.com/github/Nikhilsain/ML_PROJECTS/blob/main/Life_Expectancy_Random_Forest_Regression.ipynb\" target=\"_parent\"><img src=\"https://colab.research.google.com/assets/colab-badge.svg\" alt=\"Open In Colab\"/></a>"
      ]
    },
    {
      "cell_type": "markdown",
      "metadata": {
        "id": "ZFF2frngp1oX"
      },
      "source": [
        "# IMPORTING - LIBRARIES"
      ]
    },
    {
      "cell_type": "code",
      "metadata": {
        "id": "fvkU2sQFp7xZ"
      },
      "source": [
        "import numpy as np\r\n",
        "import matplotlib.pyplot as plt\r\n",
        "import pandas as pd"
      ],
      "execution_count": 22,
      "outputs": []
    },
    {
      "cell_type": "markdown",
      "metadata": {
        "id": "KNNTpEqtp9ZU"
      },
      "source": [
        "# IMPORT DATASET"
      ]
    },
    {
      "cell_type": "code",
      "metadata": {
        "colab": {
          "base_uri": "https://localhost:8080/"
        },
        "id": "3DgU9dTCqRFE",
        "outputId": "2196c7c5-c29f-45b1-9c64-a7e7cf144286"
      },
      "source": [
        "dataset = pd.read_csv('Life Expectancy Data.csv')\r\n",
        "\r\n",
        "for (columnName) in dataset.iteritems(): \r\n",
        "    print(columnName[0] ,'-', dataset[columnName[0]].dtype) "
      ],
      "execution_count": 23,
      "outputs": [
        {
          "output_type": "stream",
          "text": [
            "Country - object\n",
            "Year - int64\n",
            "Status - object\n",
            "Life expectancy  - float64\n",
            "Adult Mortality - float64\n",
            "infant deaths - int64\n",
            "Alcohol - float64\n",
            "percentage expenditure - float64\n",
            "Hepatitis B - float64\n",
            "Measles  - int64\n",
            " BMI  - float64\n",
            "under-five deaths  - int64\n",
            "Polio - float64\n",
            "Total expenditure - float64\n",
            "Diphtheria  - float64\n",
            " HIV/AIDS - float64\n",
            "GDP - float64\n",
            "Population - float64\n",
            " thinness  1-19 years - float64\n",
            " thinness 5-9 years - float64\n",
            "Income composition of resources - float64\n",
            "Schooling - float64\n"
          ],
          "name": "stdout"
        }
      ]
    },
    {
      "cell_type": "markdown",
      "metadata": {
        "id": "tJL-KV5goQ5K"
      },
      "source": [
        "# Taking care of missing data and depend. and undepend. featers selections"
      ]
    },
    {
      "cell_type": "code",
      "metadata": {
        "id": "ID9ECopsoyo8",
        "colab": {
          "base_uri": "https://localhost:8080/"
        },
        "outputId": "28d4f987-2c0f-4dd5-9693-88f4c2a3e600"
      },
      "source": [
        "dataset.isnull().sum()"
      ],
      "execution_count": 24,
      "outputs": [
        {
          "output_type": "execute_result",
          "data": {
            "text/plain": [
              "Country                              0\n",
              "Year                                 0\n",
              "Status                               0\n",
              "Life expectancy                     10\n",
              "Adult Mortality                     10\n",
              "infant deaths                        0\n",
              "Alcohol                            194\n",
              "percentage expenditure               0\n",
              "Hepatitis B                        553\n",
              "Measles                              0\n",
              " BMI                                34\n",
              "under-five deaths                    0\n",
              "Polio                               19\n",
              "Total expenditure                  226\n",
              "Diphtheria                          19\n",
              " HIV/AIDS                            0\n",
              "GDP                                448\n",
              "Population                         652\n",
              " thinness  1-19 years               34\n",
              " thinness 5-9 years                 34\n",
              "Income composition of resources    167\n",
              "Schooling                          163\n",
              "dtype: int64"
            ]
          },
          "metadata": {
            "tags": []
          },
          "execution_count": 24
        }
      ]
    },
    {
      "cell_type": "code",
      "metadata": {
        "id": "S_ACgVTXj4Z9"
      },
      "source": [
        "for (columnName) in dataset.iteritems(): \r\n",
        "    if dataset[columnName[0]].dtype == 'int' :\r\n",
        "       dataset[columnName[0]].fillna(int(dataset[columnName[0]].mean()), inplace=True)\r\n",
        "    if dataset[columnName[0]].dtype == 'float' :\r\n",
        "       dataset[columnName[0]].fillna(float(dataset[columnName[0]].mean()), inplace=True)\r\n"
      ],
      "execution_count": 25,
      "outputs": []
    },
    {
      "cell_type": "code",
      "metadata": {
        "id": "uKnqk_Lddv8c",
        "colab": {
          "base_uri": "https://localhost:8080/"
        },
        "outputId": "c0d10f58-aeec-4433-ce15-4c08de2420ce"
      },
      "source": [
        "dataset.isnull().sum()"
      ],
      "execution_count": 26,
      "outputs": [
        {
          "output_type": "execute_result",
          "data": {
            "text/plain": [
              "Country                            0\n",
              "Year                               0\n",
              "Status                             0\n",
              "Life expectancy                    0\n",
              "Adult Mortality                    0\n",
              "infant deaths                      0\n",
              "Alcohol                            0\n",
              "percentage expenditure             0\n",
              "Hepatitis B                        0\n",
              "Measles                            0\n",
              " BMI                               0\n",
              "under-five deaths                  0\n",
              "Polio                              0\n",
              "Total expenditure                  0\n",
              "Diphtheria                         0\n",
              " HIV/AIDS                          0\n",
              "GDP                                0\n",
              "Population                         0\n",
              " thinness  1-19 years              0\n",
              " thinness 5-9 years                0\n",
              "Income composition of resources    0\n",
              "Schooling                          0\n",
              "dtype: int64"
            ]
          },
          "metadata": {
            "tags": []
          },
          "execution_count": 26
        }
      ]
    },
    {
      "cell_type": "code",
      "metadata": {
        "id": "67WbMUaypY76"
      },
      "source": [
        "X = dataset.iloc[:, :].values\r\n",
        "y = dataset.iloc[:, 3].values\r\n",
        "X = np.delete(X, 3, 1)\r\n",
        "X = np.delete(X, 0, 1)"
      ],
      "execution_count": 27,
      "outputs": []
    },
    {
      "cell_type": "code",
      "metadata": {
        "colab": {
          "base_uri": "https://localhost:8080/"
        },
        "id": "XvOAgsVj2loN",
        "outputId": "4c114048-a177-4ff7-9b82-ec0acd4f08bb"
      },
      "source": [
        "print(X)"
      ],
      "execution_count": 28,
      "outputs": [
        {
          "output_type": "stream",
          "text": [
            "[[2015 'Developing' 263.0 ... 17.3 0.479 10.1]\n",
            " [2014 'Developing' 271.0 ... 17.5 0.47600000000000003 10.0]\n",
            " [2013 'Developing' 268.0 ... 17.7 0.47 9.9]\n",
            " ...\n",
            " [2002 'Developing' 73.0 ... 1.3 0.42700000000000005 10.0]\n",
            " [2001 'Developing' 686.0 ... 1.7 0.42700000000000005 9.8]\n",
            " [2000 'Developing' 665.0 ... 11.2 0.434 9.8]]\n"
          ],
          "name": "stdout"
        }
      ]
    },
    {
      "cell_type": "markdown",
      "metadata": {
        "id": "G2ecaD4qz-gs"
      },
      "source": [
        "# Encoding"
      ]
    },
    {
      "cell_type": "code",
      "metadata": {
        "id": "qlxByLRL0BwY"
      },
      "source": [
        "from sklearn.compose import ColumnTransformer\r\n",
        "from sklearn.preprocessing import OneHotEncoder\r\n",
        "ct = ColumnTransformer(transformers=[('encoder', OneHotEncoder(), [1])], remainder='passthrough')\r\n",
        "X = np.array(ct.fit_transform(X))\r\n"
      ],
      "execution_count": 29,
      "outputs": []
    },
    {
      "cell_type": "markdown",
      "metadata": {
        "id": "bUfsqXxlwLAC"
      },
      "source": [
        "# Training and Test Set"
      ]
    },
    {
      "cell_type": "code",
      "metadata": {
        "id": "RgPlYAhLwT5T"
      },
      "source": [
        "from sklearn.model_selection import train_test_split\r\n",
        "X_train, X_test, y_train, y_test = train_test_split(X, y, test_size = 0.2, random_state = 0)"
      ],
      "execution_count": 30,
      "outputs": []
    },
    {
      "cell_type": "markdown",
      "metadata": {
        "id": "OiJg4NSfwg9H"
      },
      "source": [
        "# Training the Random Forest Regression model on the Training set"
      ]
    },
    {
      "cell_type": "code",
      "metadata": {
        "colab": {
          "base_uri": "https://localhost:8080/"
        },
        "id": "W6vZJQ7QwnDs",
        "outputId": "c9f30f72-830a-44f5-92e4-4314ef2549e9"
      },
      "source": [
        "from sklearn.ensemble import RandomForestRegressor\r\n",
        "regressor = RandomForestRegressor(n_estimators = 10, random_state = 0)\r\n",
        "regressor.fit(X_train, y_train)"
      ],
      "execution_count": 31,
      "outputs": [
        {
          "output_type": "execute_result",
          "data": {
            "text/plain": [
              "RandomForestRegressor(bootstrap=True, ccp_alpha=0.0, criterion='mse',\n",
              "                      max_depth=None, max_features='auto', max_leaf_nodes=None,\n",
              "                      max_samples=None, min_impurity_decrease=0.0,\n",
              "                      min_impurity_split=None, min_samples_leaf=1,\n",
              "                      min_samples_split=2, min_weight_fraction_leaf=0.0,\n",
              "                      n_estimators=10, n_jobs=None, oob_score=False,\n",
              "                      random_state=0, verbose=0, warm_start=False)"
            ]
          },
          "metadata": {
            "tags": []
          },
          "execution_count": 31
        }
      ]
    },
    {
      "cell_type": "markdown",
      "metadata": {
        "id": "49qeYCTuxMkp"
      },
      "source": [
        "# Predicting the Test set results"
      ]
    },
    {
      "cell_type": "code",
      "metadata": {
        "colab": {
          "base_uri": "https://localhost:8080/"
        },
        "id": "1PzVjMwbxQwn",
        "outputId": "7daa4638-161c-4a0e-8354-7081c9e51e1a"
      },
      "source": [
        "y_pred = regressor.predict(X_test)\r\n",
        "np.set_printoptions(precision=2)\r\n",
        "print(np.concatenate((y_pred.reshape(len(y_pred),1), y_test.reshape(len(y_test),1)),1))"
      ],
      "execution_count": 32,
      "outputs": [
        {
          "output_type": "stream",
          "text": [
            "[[78.24 77.3 ]\n",
            " [66.33 66.6 ]\n",
            " [52.95 52.6 ]\n",
            " ...\n",
            " [73.09 72.6 ]\n",
            " [74.44 73.  ]\n",
            " [81.84 83.  ]]\n"
          ],
          "name": "stdout"
        }
      ]
    },
    {
      "cell_type": "code",
      "metadata": {
        "colab": {
          "base_uri": "https://localhost:8080/",
          "height": 295
        },
        "id": "i0Jop3Tu2paO",
        "outputId": "5d257f86-f874-4d13-d5f4-20a2de6df03f"
      },
      "source": [
        "plt.scatter(np.arange(len(y_test)), y_test, color = 'red')\r\n",
        "plt.plot(np.arange(len(y_test)), y_pred, color = 'blue')\r\n",
        "plt.title('Life Expectancy (Y axis)')\r\n",
        "plt.xlabel('X-axis')\r\n",
        "plt.ylabel('Life Expectancy (Y axis)')\r\n",
        "plt.show()"
      ],
      "execution_count": 33,
      "outputs": [
        {
          "output_type": "display_data",
          "data": {
            "image/png": "[encoded data removed]",
            "text/plain": [
              "<Figure size 432x288 with 1 Axes>"
            ]
          },
          "metadata": {
            "tags": [],
            "needs_background": "light"
          }
        }
      ]
    },
    {
      "cell_type": "markdown",
      "metadata": {
        "id": "Plf7IugOxopt"
      },
      "source": [
        "# Evaluating the Model Performance from R2 Value"
      ]
    },
    {
      "cell_type": "code",
      "metadata": {
        "id": "kifsPkN-2juV"
      },
      "source": [
        ""
      ],
      "execution_count": 33,
      "outputs": []
    },
    {
      "cell_type": "code",
      "metadata": {
        "colab": {
          "base_uri": "https://localhost:8080/"
        },
        "id": "eRQXNL4nxtro",
        "outputId": "a58f6ed7-f434-40ed-8498-3c66bc9fc2a1"
      },
      "source": [
        "from sklearn.metrics import r2_score\r\n",
        "r2_score(y_test, y_pred)"
      ],
      "execution_count": 21,
      "outputs": [
        {
          "output_type": "execute_result",
          "data": {
            "text/plain": [
              "0.9526025954425028"
            ]
          },
          "metadata": {
            "tags": []
          },
          "execution_count": 21
        }
      ]
    }
  ]
}