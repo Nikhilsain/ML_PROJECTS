{
  "nbformat": 4,
  "nbformat_minor": 0,
  "metadata": {
    "colab": {
      "name": "Copy of Copy of Life_Expectancy_SVR_Regression",
      "provenance": [],
      "collapsed_sections": [],
      "toc_visible": true,
      "authorship_tag": "ABX9TyM6+bfHG3zg5b8otvuoOoM/",
      "include_colab_link": true
    },
    "kernelspec": {
      "name": "python3",
      "display_name": "Python 3"
    }
  },
  "cells": [
    {
      "cell_type": "markdown",
      "metadata": {
        "id": "view-in-github",
        "colab_type": "text"
      },
      "source": [
        "<a href=\"https://colab.research.google.com/github/Nikhilsain/ML_PROJECTS/blob/main/Copy_of_Copy_of_Life_Expectancy_SVR_Regression.ipynb\" target=\"_parent\"><img src=\"https://colab.research.google.com/assets/colab-badge.svg\" alt=\"Open In Colab\"/></a>"
      ]
    },
    {
      "cell_type": "markdown",
      "metadata": {
        "id": "ZFF2frngp1oX"
      },
      "source": [
        "# IMPORTING - LIBRARIES"
      ]
    },
    {
      "cell_type": "code",
      "metadata": {
        "id": "fvkU2sQFp7xZ"
      },
      "source": [
        "import numpy as np\r\n",
        "import matplotlib.pyplot as plt\r\n",
        "import pandas as pd"
      ],
      "execution_count": 33,
      "outputs": []
    },
    {
      "cell_type": "markdown",
      "metadata": {
        "id": "KNNTpEqtp9ZU"
      },
      "source": [
        "# IMPORT DATASET"
      ]
    },
    {
      "cell_type": "code",
      "metadata": {
        "colab": {
          "base_uri": "https://localhost:8080/"
        },
        "id": "3DgU9dTCqRFE",
        "outputId": "bd1529c8-7614-4f27-8a7d-a271bd5179db"
      },
      "source": [
        "dataset = pd.read_csv('Life Expectancy Data.csv')\r\n",
        "\r\n",
        "for (columnName) in dataset.iteritems(): \r\n",
        "    print(columnName[0] ,'-', dataset[columnName[0]].dtype) "
      ],
      "execution_count": 34,
      "outputs": [
        {
          "output_type": "stream",
          "text": [
            "Country - object\n",
            "Year - int64\n",
            "Status - object\n",
            "Life expectancy  - float64\n",
            "Adult Mortality - float64\n",
            "infant deaths - int64\n",
            "Alcohol - float64\n",
            "percentage expenditure - float64\n",
            "Hepatitis B - float64\n",
            "Measles  - int64\n",
            " BMI  - float64\n",
            "under-five deaths  - int64\n",
            "Polio - float64\n",
            "Total expenditure - float64\n",
            "Diphtheria  - float64\n",
            " HIV/AIDS - float64\n",
            "GDP - float64\n",
            "Population - float64\n",
            " thinness  1-19 years - float64\n",
            " thinness 5-9 years - float64\n",
            "Income composition of resources - float64\n",
            "Schooling - float64\n"
          ],
          "name": "stdout"
        }
      ]
    },
    {
      "cell_type": "markdown",
      "metadata": {
        "id": "tJL-KV5goQ5K"
      },
      "source": [
        "# Taking care of missing data and depend. and undepend. featers selections"
      ]
    },
    {
      "cell_type": "code",
      "metadata": {
        "id": "ID9ECopsoyo8",
        "colab": {
          "base_uri": "https://localhost:8080/"
        },
        "outputId": "35f7a2eb-6048-45b1-97f0-b161c96b9ce6"
      },
      "source": [
        "dataset.isnull().sum()"
      ],
      "execution_count": 35,
      "outputs": [
        {
          "output_type": "execute_result",
          "data": {
            "text/plain": [
              "Country                              0\n",
              "Year                                 0\n",
              "Status                               0\n",
              "Life expectancy                     10\n",
              "Adult Mortality                     10\n",
              "infant deaths                        0\n",
              "Alcohol                            194\n",
              "percentage expenditure               0\n",
              "Hepatitis B                        553\n",
              "Measles                              0\n",
              " BMI                                34\n",
              "under-five deaths                    0\n",
              "Polio                               19\n",
              "Total expenditure                  226\n",
              "Diphtheria                          19\n",
              " HIV/AIDS                            0\n",
              "GDP                                448\n",
              "Population                         652\n",
              " thinness  1-19 years               34\n",
              " thinness 5-9 years                 34\n",
              "Income composition of resources    167\n",
              "Schooling                          163\n",
              "dtype: int64"
            ]
          },
          "metadata": {
            "tags": []
          },
          "execution_count": 35
        }
      ]
    },
    {
      "cell_type": "code",
      "metadata": {
        "id": "S_ACgVTXj4Z9"
      },
      "source": [
        "for (columnName) in dataset.iteritems(): \r\n",
        "    if dataset[columnName[0]].dtype == 'int' :\r\n",
        "       dataset[columnName[0]].fillna(int(dataset[columnName[0]].mean()), inplace=True)\r\n",
        "    if dataset[columnName[0]].dtype == 'float' :\r\n",
        "       dataset[columnName[0]].fillna(float(dataset[columnName[0]].mean()), inplace=True)\r\n"
      ],
      "execution_count": 36,
      "outputs": []
    },
    {
      "cell_type": "code",
      "metadata": {
        "id": "uKnqk_Lddv8c",
        "colab": {
          "base_uri": "https://localhost:8080/"
        },
        "outputId": "1c4270e6-d405-4a5f-ab26-7031d4b05911"
      },
      "source": [
        "dataset.isnull().sum()"
      ],
      "execution_count": 37,
      "outputs": [
        {
          "output_type": "execute_result",
          "data": {
            "text/plain": [
              "Country                            0\n",
              "Year                               0\n",
              "Status                             0\n",
              "Life expectancy                    0\n",
              "Adult Mortality                    0\n",
              "infant deaths                      0\n",
              "Alcohol                            0\n",
              "percentage expenditure             0\n",
              "Hepatitis B                        0\n",
              "Measles                            0\n",
              " BMI                               0\n",
              "under-five deaths                  0\n",
              "Polio                              0\n",
              "Total expenditure                  0\n",
              "Diphtheria                         0\n",
              " HIV/AIDS                          0\n",
              "GDP                                0\n",
              "Population                         0\n",
              " thinness  1-19 years              0\n",
              " thinness 5-9 years                0\n",
              "Income composition of resources    0\n",
              "Schooling                          0\n",
              "dtype: int64"
            ]
          },
          "metadata": {
            "tags": []
          },
          "execution_count": 37
        }
      ]
    },
    {
      "cell_type": "code",
      "metadata": {
        "id": "67WbMUaypY76"
      },
      "source": [
        "X = dataset.iloc[:, :].values\r\n",
        "y = dataset.iloc[:, 3].values\r\n",
        "X = np.delete(X, 3, 1)\r\n",
        "X = np.delete(X, 0, 1)\r\n",
        "y = y.reshape(len(y),1)"
      ],
      "execution_count": 38,
      "outputs": []
    },
    {
      "cell_type": "code",
      "metadata": {
        "colab": {
          "base_uri": "https://localhost:8080/"
        },
        "id": "XvOAgsVj2loN",
        "outputId": "23f05a75-f3e0-4a39-edb5-c2eb0e3527f8"
      },
      "source": [
        "print(X)"
      ],
      "execution_count": 39,
      "outputs": [
        {
          "output_type": "stream",
          "text": [
            "[[2015 'Developing' 263.0 ... 17.3 0.479 10.1]\n",
            " [2014 'Developing' 271.0 ... 17.5 0.47600000000000003 10.0]\n",
            " [2013 'Developing' 268.0 ... 17.7 0.47 9.9]\n",
            " ...\n",
            " [2002 'Developing' 73.0 ... 1.3 0.42700000000000005 10.0]\n",
            " [2001 'Developing' 686.0 ... 1.7 0.42700000000000005 9.8]\n",
            " [2000 'Developing' 665.0 ... 11.2 0.434 9.8]]\n"
          ],
          "name": "stdout"
        }
      ]
    },
    {
      "cell_type": "markdown",
      "metadata": {
        "id": "G2ecaD4qz-gs"
      },
      "source": [
        "# Encoding"
      ]
    },
    {
      "cell_type": "code",
      "metadata": {
        "id": "qlxByLRL0BwY"
      },
      "source": [
        "from sklearn.compose import ColumnTransformer\r\n",
        "from sklearn.preprocessing import OneHotEncoder\r\n",
        "ct = ColumnTransformer(transformers=[('encoder', OneHotEncoder(), [1])], remainder='passthrough')\r\n",
        "X = np.array(ct.fit_transform(X))\r\n"
      ],
      "execution_count": 40,
      "outputs": []
    },
    {
      "cell_type": "markdown",
      "metadata": {
        "id": "bUfsqXxlwLAC"
      },
      "source": [
        "# Training and Test Set"
      ]
    },
    {
      "cell_type": "code",
      "metadata": {
        "id": "RgPlYAhLwT5T"
      },
      "source": [
        "from sklearn.model_selection import train_test_split\r\n",
        "X_train, X_test, y_train, y_test = train_test_split(X, y, test_size = 0.2, random_state = 0)"
      ],
      "execution_count": 41,
      "outputs": []
    },
    {
      "cell_type": "markdown",
      "metadata": {
        "id": "-CY0FX4En10j"
      },
      "source": [
        "# Feature Scalling"
      ]
    },
    {
      "cell_type": "code",
      "metadata": {
        "colab": {
          "base_uri": "https://localhost:8080/"
        },
        "id": "ZxPHnEosn6hE",
        "outputId": "cce12103-d164-49b1-c0fb-c959fc5822cd"
      },
      "source": [
        "from sklearn.preprocessing import StandardScaler\r\n",
        "sc_X = StandardScaler()\r\n",
        "sc_y = StandardScaler()\r\n",
        "X_train = sc_X.fit_transform(X_train)\r\n",
        "print(y_train)\r\n",
        "y_train = sc_y.fit_transform(y_train)\r\n",
        "print(X_train)\r\n",
        "print(y_train)"
      ],
      "execution_count": 42,
      "outputs": [
        {
          "output_type": "stream",
          "text": [
            "[[78.7]\n",
            " [58.5]\n",
            " [76.2]\n",
            " ...\n",
            " [62.7]\n",
            " [66.6]\n",
            " [71. ]]\n",
            "[[ 2.22 -2.22 -0.55 ... -0.86  0.98  0.47]\n",
            " [-0.45  0.45 -1.42 ...  1.54 -1.07 -1.35]\n",
            " [ 2.22 -2.22 -1.42 ... -0.6   0.97  0.84]\n",
            " ...\n",
            " [-0.45  0.45  1.2  ...  0.67 -0.63 -1.16]\n",
            " [-0.45  0.45  0.33 ...  1.49 -0.14  0.04]\n",
            " [-0.45  0.45  1.2  ... -0.55  0.58  1.  ]]\n",
            "[[ 1.01]\n",
            " [-1.12]\n",
            " [ 0.75]\n",
            " ...\n",
            " [-0.67]\n",
            " [-0.26]\n",
            " [ 0.2 ]]\n"
          ],
          "name": "stdout"
        }
      ]
    },
    {
      "cell_type": "markdown",
      "metadata": {
        "id": "OiJg4NSfwg9H"
      },
      "source": [
        "# Training the SVR(support vector machine) Regression model on the Training set"
      ]
    },
    {
      "cell_type": "code",
      "metadata": {
        "colab": {
          "base_uri": "https://localhost:8080/"
        },
        "id": "W6vZJQ7QwnDs",
        "outputId": "7bc163f0-31bb-4ce6-844f-cd6b60fc056c"
      },
      "source": [
        "from sklearn.svm import SVR\r\n",
        "regressor = SVR(kernel = 'rbf')\r\n",
        "regressor.fit(X_train, y_train)"
      ],
      "execution_count": 43,
      "outputs": [
        {
          "output_type": "stream",
          "text": [
            "/usr/local/lib/python3.6/dist-packages/sklearn/utils/validation.py:760: DataConversionWarning: A column-vector y was passed when a 1d array was expected. Please change the shape of y to (n_samples, ), for example using ravel().\n",
            "  y = column_or_1d(y, warn=True)\n"
          ],
          "name": "stderr"
        },
        {
          "output_type": "execute_result",
          "data": {
            "text/plain": [
              "SVR(C=1.0, cache_size=200, coef0=0.0, degree=3, epsilon=0.1, gamma='scale',\n",
              "    kernel='rbf', max_iter=-1, shrinking=True, tol=0.001, verbose=False)"
            ]
          },
          "metadata": {
            "tags": []
          },
          "execution_count": 43
        }
      ]
    },
    {
      "cell_type": "markdown",
      "metadata": {
        "id": "49qeYCTuxMkp"
      },
      "source": [
        "# Predicting the Test set results"
      ]
    },
    {
      "cell_type": "code",
      "metadata": {
        "colab": {
          "base_uri": "https://localhost:8080/"
        },
        "id": "1PzVjMwbxQwn",
        "outputId": "76f7d53f-3b24-489d-bcb7-2d31bb7eca00"
      },
      "source": [
        "y_pred = sc_y.inverse_transform(regressor.predict(sc_X.transform(X_test)))\r\n",
        "np.set_printoptions(precision=2)\r\n",
        "print(np.concatenate((y_pred.reshape(len(y_pred),1), y_test.reshape(len(y_test),1)),1))\r\n"
      ],
      "execution_count": 44,
      "outputs": [
        {
          "output_type": "stream",
          "text": [
            "[[78.01 77.3 ]\n",
            " [66.68 66.6 ]\n",
            " [50.34 52.6 ]\n",
            " ...\n",
            " [74.82 72.6 ]\n",
            " [74.39 73.  ]\n",
            " [79.77 83.  ]]\n"
          ],
          "name": "stdout"
        }
      ]
    },
    {
      "cell_type": "code",
      "metadata": {
        "colab": {
          "base_uri": "https://localhost:8080/",
          "height": 295
        },
        "id": "i0Jop3Tu2paO",
        "outputId": "22a2f573-15fd-4c53-a69a-a84d08114eb9"
      },
      "source": [
        "plt.scatter(np.arange(len(y_test)), y_test, color = 'red')\r\n",
        "plt.plot(np.arange(len(y_test)),  y_pred, color = 'blue')\r\n",
        "plt.title('Life Expectancy (Y axis)')\r\n",
        "plt.xlabel('X-axis')\r\n",
        "plt.ylabel('Life Expectancy (Y axis)')\r\n",
        "plt.show()"
      ],
      "execution_count": 45,
      "outputs": [
        {
          "output_type": "display_data",
          "data": {
            "image/png": "[encoded data removed]",
            "text/plain": [
              "<Figure size 432x288 with 1 Axes>"
            ]
          },
          "metadata": {
            "tags": [],
            "needs_background": "light"
          }
        }
      ]
    },
    {
      "cell_type": "markdown",
      "metadata": {
        "id": "Plf7IugOxopt"
      },
      "source": [
        "# Evaluating the Model Performance from R2 Value"
      ]
    },
    {
      "cell_type": "code",
      "metadata": {
        "colab": {
          "base_uri": "https://localhost:8080/"
        },
        "id": "eRQXNL4nxtro",
        "outputId": "576708bc-ff16-43e6-9518-35b9d5ab03b8"
      },
      "source": [
        "from sklearn.metrics import r2_score\r\n",
        "r2_score(y_test, y_pred)"
      ],
      "execution_count": 46,
      "outputs": [
        {
          "output_type": "execute_result",
          "data": {
            "text/plain": [
              "0.9126359169048284"
            ]
          },
          "metadata": {
            "tags": []
          },
          "execution_count": 46
        }
      ]
    }
  ]
}
